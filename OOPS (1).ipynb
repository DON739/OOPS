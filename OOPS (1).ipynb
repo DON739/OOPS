{
  "nbformat": 4,
  "nbformat_minor": 0,
  "metadata": {
    "colab": {
      "provenance": []
    },
    "kernelspec": {
      "name": "python3",
      "display_name": "Python 3"
    },
    "language_info": {
      "name": "python"
    }
  },
  "cells": [
    {
      "cell_type": "markdown",
      "source": [
        "\n",
        "# theory questions"
      ],
      "metadata": {
        "id": "o10Vz9aYSTL8"
      }
    },
    {
      "cell_type": "markdown",
      "source": [
        "1. What is Object-Oriented Programming (OOP)?\n",
        "\n",
        "\n",
        "- Object-Oriented Programming  is a way of writing computer programs by thinking about real-world things as objects. These objects have properties (like color, size, name) .\n",
        "\n",
        "\n",
        "\n",
        "1. **Class** – its a blueprint of the object.\n",
        "2. **Object** – instance of the class.\n",
        "\n",
        "3. **Encapsulation** – Keeping the details hidden.\n",
        "\n",
        "4. **Inheritance** – derived class created from the base class.\n",
        "5. **Polymorphism** – One action can behave differently for different things.\n",
        "\n",
        "6. **Abstraction** – Showing only the important stuff. Like using a remote to turn on a TV without needing to know the wiring inside.\n",
        "\n",
        "\n",
        "---\n"
      ],
      "metadata": {
        "id": "e3j6BY6uSi8S"
      }
    },
    {
      "cell_type": "markdown",
      "source": [
        "2.What is a class in OOP?\n",
        "-\n",
        "A class is like a template or blueprint for making things (called objects in programming).\n",
        "\n",
        "- You can think of it like:\n",
        "- Class = Recipe for cupcakes\n",
        "- Object = The actual cupcake you bake using that recipe\n",
        "\n",
        "\n",
        "\n",
        "\n",
        "\n",
        "```python\n",
        "class Dog:\n",
        "    def __init__(self, name, color):\n",
        "        self.name = name\n",
        "        self.color = color\n",
        "\n",
        "    def bark(self):\n",
        "        print(self.name + \" says woof!\")\n",
        "\n",
        "dog1 = Dog(\"Buddy\", \"Brown\")\n",
        "\n",
        "\n",
        "dog1.bark()  \n",
        "  \n",
        "```\n",
        "---\n"
      ],
      "metadata": {
        "id": "bpCQtr2MUYjx"
      }
    },
    {
      "cell_type": "markdown",
      "source": [
        "3.What is an object in OOP?\n",
        "- An object is just a thing made from a class. It has its own data and can do stuff.\n",
        "\n",
        "```python\n",
        "class Dog:\n",
        "    def __init__(self, name):\n",
        "        self.name = name\n",
        "\n",
        "    def bark(self):\n",
        "        print(self.name + \" says woof!\")\n",
        "\n",
        "# Creating objects from the class\n",
        "dog1 = Dog(\"Buddy\")\n",
        "dog2 = Dog(\"Luna\")\n",
        "\n",
        "dog1.bark()\n",
        "dog2.bark()  \n",
        "```\n",
        "\n",
        "- Dog is the class (like a design).\n",
        "- dog1 and dog2 are objects (real dogs with names).\n",
        "-  Each object can use the bark() function.\n",
        "---\n",
        "\n"
      ],
      "metadata": {
        "id": "gOl9brsgVm2q"
      }
    },
    {
      "cell_type": "markdown",
      "source": [
        "4.What is the difference between abstraction and encapsulation?\n",
        "- Abstraction - Hiding unnecessary details.\n",
        "- Encapsulation - Hiding the data inside and protecting it .\n",
        "\n",
        "\n",
        "\n",
        "\n",
        "- Abstraction Example:\n",
        "\n",
        "```python\n",
        "from abc import ABC, abstractmethod\n",
        "\n",
        "class Animal(ABC):  \n",
        "    @abstractmethod\n",
        "    def make_sound(self):\n",
        "        pass\n",
        "\n",
        "class Dog(Animal):\n",
        "    def make_sound(self):\n",
        "        print(\"Woof!\")\n",
        "\n",
        "\n",
        "dog = Dog()\n",
        "dog.make_sound()  \n",
        "```\n",
        "\n",
        "\n",
        "\n",
        "- Encapsulation Example:\n",
        "\n",
        "```python\n",
        "class BankAccount:\n",
        "    def __init__(self):\n",
        "        self.__balance = 0  \n",
        "\n",
        "    def deposit(self, amount):\n",
        "        self.__balance += amount\n",
        "\n",
        "    def get_balance(self):\n",
        "        return self.__balance\n",
        "\n",
        "\n",
        "account = BankAccount()\n",
        "account.deposit(100)\n",
        "print(account.get_balance())\n",
        "```\n",
        "---\n"
      ],
      "metadata": {
        "id": "1d6tpEV5WyWu"
      }
    },
    {
      "cell_type": "markdown",
      "source": [
        "5. What are dunder methods in Python?\n",
        "- Dunder methods are special functions in Python.\n",
        "They have double underscores before and after their names — like this: __init__, __str__, etc.\n",
        "- \"Dunder\" = Double UNDERscore.\n",
        "\n",
        "\n",
        "\n",
        "```python\n",
        "class Book:\n",
        "    def __init__(self, title):  \n",
        "        self.title = title\n",
        "\n",
        "    def __str__(self):\n",
        "        return f\"Book: {self.title}\"\n",
        "\n",
        "book = Book(\"me\")\n",
        "print(book)\n",
        "```\n",
        "\n",
        "---\n"
      ],
      "metadata": {
        "id": "XGcKAuflW2QQ"
      }
    },
    {
      "cell_type": "markdown",
      "source": [
        "6.Explain the concept of inheritance in OOP?\n",
        "- Inheritance is when one class gets features (like properties and methods) from another class.\n",
        "\n",
        "- It's like having a child class that inherits traits from a parent class. The child class can add new features or change existing ones.\n",
        "\n",
        "```python\n",
        "class Animal:  # Parent class\n",
        "    def speak(self):\n",
        "        print(\"Animal speaks\")\n",
        "\n",
        "class Dog(Animal):  \n",
        "    def speak(self):\n",
        "        print(\"Dog barks\")\n",
        "\n",
        "\n",
        "dog = Dog()\n",
        "dog.speak()  \n",
        "```\n",
        "\n",
        "---\n"
      ],
      "metadata": {
        "id": "w7zB_s8dY7xc"
      }
    },
    {
      "cell_type": "markdown",
      "source": [
        "7.What is polymorphism in OOP?\n",
        "- Polymorphism means that one action can work in different ways for different objects.\n",
        "\n",
        "- It’s like a single method doing different things depending on the object that calls it.\n",
        "\n",
        "```python\n",
        "class Animal:\n",
        "    def speak(self):\n",
        "        print(\"Animal makes a sound\")\n",
        "\n",
        "class Dog(Animal):\n",
        "    def speak(self):\n",
        "        print(\"Dog barks\")\n",
        "\n",
        "class Cat(Animal):\n",
        "    def speak(self):\n",
        "        print(\"Cat meows\")\n",
        "\n",
        "animals = [Dog(), Cat()]\n",
        "\n",
        "for animal in animals:\n",
        "    animal.speak()\n",
        "\n",
        "output:\n",
        "Dog barks\n",
        "Cat meows\n",
        "```\n",
        "\n",
        "\n",
        "---\n"
      ],
      "metadata": {
        "id": "ahCcCjxWZq_O"
      }
    },
    {
      "cell_type": "markdown",
      "source": [
        "8.How is encapsulation achieved in Python?\n",
        "- Encapsulation is about hiding the internal details of an object and only exposing what’s necessary. It protects the data and allows you to control how it’s accessed.\n",
        "\n",
        "\n",
        "\n",
        "\n",
        "\n",
        "```python\n",
        "class BankAccount:\n",
        "    def __init__(self):\n",
        "        self.__balance = 0  \n",
        "\n",
        "    def deposit(self, amount):\n",
        "        self.__balance += amount\n",
        "\n",
        "    def get_balance(self):  \n",
        "        return self.__balance\n",
        "\n",
        "account = BankAccount()\n",
        "account.deposit(100)\n",
        "print(account.get_balance())\n",
        "```\n",
        "\n",
        "---\n"
      ],
      "metadata": {
        "id": "KUCFB-A1agDl"
      }
    },
    {
      "cell_type": "markdown",
      "source": [
        "9.What is a constructor in Python?\n",
        "- constructor is a special method that is automatically called when you create a new object from a class. It’s used to initialize the object’s attributes.\n",
        "\n",
        "- In Python, the constructor is the __init__ method.\n",
        "\n",
        "\n",
        "```python\n",
        "class Person:\n",
        "    def __init__(self, name, age):  # Constructor\n",
        "        self.name = name\n",
        "        self.age = age\n",
        "\n",
        "\n",
        "person1 = Person(\"Alice\", 30)\n",
        "person2 = Person(\"Bob\", 25)\n",
        "\n",
        "\n",
        "print(person1.name)  \n",
        "print(person2.age)   \n",
        "```\n",
        "\n",
        "---\n"
      ],
      "metadata": {
        "id": "wph9o3dQbE4_"
      }
    },
    {
      "cell_type": "markdown",
      "source": [
        "10.What are class and static methods in Python?\n",
        "- Class Method in Python:\n",
        "\n",
        "- A class method is a method that is bound to the class and not the object. It takes the class itself as the first argument (usually named cls).\n",
        "\n",
        "```python\n",
        "class Dog:\n",
        "    species = \"Canine\"\n",
        "    @classmethod  \n",
        "    def describe(cls):\n",
        "        print(f\"All dogs are {cls.species}\")\n",
        "\n",
        "\n",
        "Dog.describe()\n",
        "```\n",
        "\n",
        "\n",
        "\n",
        "- Static Method in Python:\n",
        "\n",
        "- A static method doesn’t take the class (cls) or instance (self) as the first argument. It behaves like a regular function but belongs to the class.\n",
        "\n",
        "\n",
        "\n",
        "```python\n",
        "class Calculator:\n",
        "    @staticmethod\n",
        "    def add(x, y):\n",
        "        return x + y\n",
        "\n",
        "result = Calculator.add(5, 3)\n",
        "print(result)\n",
        "```\n",
        "---"
      ],
      "metadata": {
        "id": "rCYgOej4bnNB"
      }
    },
    {
      "cell_type": "markdown",
      "source": [
        "11.What is method overloading in Python?\n",
        "- In Python, method overloading refers to the ability to define multiple methods with the same name but different parameters. However, Python doesn't directly support method overloading like other languages (e.g., Java or C++).\n",
        "\n",
        "\n",
        "\n",
        "```python\n",
        "class Calculator:\n",
        "    def add(self, x, y=0):\n",
        "\n",
        "calc = Calculator()\n",
        "print(calc.add(5))        \n",
        "print(calc.add(5, 3))     \n",
        "```\n",
        "\n",
        "---\n",
        "\n"
      ],
      "metadata": {
        "id": "PM9fJDo1chPJ"
      }
    },
    {
      "cell_type": "markdown",
      "source": [
        "12.What is method overriding in OOP?\n",
        "- Method overriding happens when a child class provides its own version of a method that is already defined in its parent class. This allows the child class to change or extend the behavior of the method.\n",
        "\n",
        "\n",
        "```python\n",
        "class Animal:\n",
        "    def sound(self):\n",
        "        print(\"Animal makes a sound\")\n",
        "\n",
        "class Dog(Animal):\n",
        "    def sound(self):  \n",
        "        print(\"Dog barks\")\n",
        "\n",
        "class Cat(Animal):\n",
        "    def sound(self):  \n",
        "        print(\"Cat meows\")\n",
        "\n",
        "\n",
        "dog = Dog()\n",
        "cat = Cat()\n",
        "\n",
        "dog.sound()  \n",
        "cat.sound()  \n",
        "```\n",
        "---\n"
      ],
      "metadata": {
        "id": "10CCSkYQdL2L"
      }
    },
    {
      "cell_type": "markdown",
      "source": [
        "13.What is a property decorator in Python?\n",
        "- In Python, the property decorator is used to define a method that behaves like an attribute. This means you can access it like a variable, but it actually runs a method behind the scenes.\n",
        "\n",
        "```python\n",
        "class Circle:\n",
        "    def __init__(self, radius):\n",
        "        self._radius = radius\n",
        "    \n",
        "    @property\n",
        "    def radius(self):\n",
        "        return self._radius\n",
        "\n",
        "    @radius.setter\n",
        "    def radius(self, value):\n",
        "        if value > 0:\n",
        "            self._radius = value\n",
        "        else:\n",
        "            print(\"Radius must be positive!\")\n",
        "\n",
        "\n",
        "circle = Circle(5)\n",
        "print(circle.radius)  \n",
        "\n",
        "circle.radius = 10\n",
        "print(circle.radius)  \n",
        "\n",
        "circle.radius = -5\n",
        "```\n",
        "---"
      ],
      "metadata": {
        "id": "JOuxdkigdsMH"
      }
    },
    {
      "cell_type": "markdown",
      "source": [
        "14.Why is polymorphism important in OOP?\n",
        "- Polymorphism is important in OOP because it allows you to use the same method name for different types of objects. This makes your code more flexible and easier to extend since you don’t have to create different methods for each object type.\n",
        "\n",
        "```python\n",
        "class Dog:\n",
        "    def speak(self):\n",
        "        print(\"Woof!\")\n",
        "\n",
        "class Cat:\n",
        "    def speak(self):\n",
        "        print(\"Meow!\")\n",
        "\n",
        "animals = [Dog(), Cat()]\n",
        "\n",
        "for animal in animals:\n",
        "    animal.speak()\n",
        "```\n",
        "---"
      ],
      "metadata": {
        "id": "nMdxqGfiejnX"
      }
    },
    {
      "cell_type": "markdown",
      "source": [
        "15.What is an abstract class in Python?\n",
        "- An abstract class is a class that cannot be instantiated directly. It is meant to be subclassed by other classes. It can have abstract methods, which are methods that must be implemented by the subclasses.\n",
        "\n",
        "```python\n",
        "from abc import ABC, abstractmethod\n",
        "\n",
        "class Animal(ABC):\n",
        "    @abstractmethod\n",
        "    def speak(self):\n",
        "        pass\n",
        "\n",
        "class Dog(Animal):\n",
        "    def speak(self):\n",
        "        print(\"Woof!\")\n",
        "\n",
        "dog = Dog()\n",
        "dog.speak()\n",
        "```\n",
        "---\n"
      ],
      "metadata": {
        "id": "aN8JRMElfFwW"
      }
    },
    {
      "cell_type": "markdown",
      "source": [
        "16.What are the advantages of OOP?\n",
        "- Advantages of OOP:\n",
        "\n",
        "1. **Reuse**: You can use the same code over and over without rewriting it.\n",
        "2. **Simpler**: It hides the complicated stuff and only shows what’s necessary.\n",
        "3. **Organized**: It keeps everything neat by putting data and actions in the same place.\n",
        "4. **Flexible**: Different things can do the same action in their own way.\n",
        "5. **Easy to update**: You can change one part of the code without breaking everything.\n",
        "\n",
        "---\n"
      ],
      "metadata": {
        "id": "WzERk4MHW3O9"
      }
    },
    {
      "cell_type": "markdown",
      "source": [
        "17.What is the difference between a class variable and an instance variable?\n",
        "- Class variable is shared by all objects.\n",
        "- Instance variable is separate for each object.\n",
        "\n",
        "\n",
        "```python\n",
        "class Student:\n",
        "    school_name = \"ABC School\"\n",
        "\n",
        "    def __init__(self, name, age):\n",
        "        self.name = name      \n",
        "        self.age = age        \n",
        "\n",
        "s1 = Student(\"Ram\", 15)\n",
        "s2 = Student(\"Shyam\", 16)\n",
        "\n",
        "print(s1.name)\n",
        "print(s2.name)\n",
        "print(s1.school_name)\n",
        "print(s2.school_name)\n",
        "\n",
        "Student.school_name = \"XYZ School\"\n",
        "\n",
        "print(s1.school_name)\n",
        "print(s2.school_name)\n",
        "```\n",
        "---\n",
        "\n"
      ],
      "metadata": {
        "id": "334lI3ICf71p"
      }
    },
    {
      "cell_type": "markdown",
      "source": [
        "18.What is multiple inheritance in Python?\n",
        "- Multiple inheritance means a class can get features from more than one parent class.\n",
        "\n",
        "```python\n",
        "class Father:\n",
        "    def skills(self):\n",
        "        print(\"Gardening and Cooking\")\n",
        "\n",
        "class Mother:\n",
        "    def skills(self):\n",
        "        print(\"Painting and Dancing\")\n",
        "\n",
        "class Child(Father, Mother):\n",
        "    def skills(self):\n",
        "        Father.skills(self)\n",
        "        Mother.skills(self)\n",
        "        print(\"Singing\")\n",
        "\n",
        "c = Child()\n",
        "c.skills()\n",
        "```\n",
        "---\n"
      ],
      "metadata": {
        "id": "OuC8cqcAg4uB"
      }
    },
    {
      "cell_type": "markdown",
      "source": [
        "19.Explain the purpose of \"__str__\" and \"__repr__\"  methods in Python.\n",
        "- `__str__` is used when you print the object.\n",
        "- `__repr__` is used for developers to see a useful unambiguous representation of the object.\n",
        "\n",
        "```python\n",
        "class Person:\n",
        "    def __init__(self, name, age):\n",
        "        self.name = name\n",
        "        self.age = age\n",
        "\n",
        "    def __str__(self):\n",
        "        return f\"My name is {self.name}\"\n",
        "\n",
        "    def __repr__(self):\n",
        "        return f\"Person('{self.name}', {self.age})\"\n",
        "\n",
        "p = Person(\"Ravi\", 30)\n",
        "\n",
        "print(p)\n",
        "\n",
        "print(repr(p))\n",
        "```\n",
        "---"
      ],
      "metadata": {
        "id": "qslWHAemhQHW"
      }
    },
    {
      "cell_type": "markdown",
      "source": [
        "20.What is the significance of the \"super()\" function in Python?\n",
        "- `super()` is used in a child class to call the parent class’s methods or constructor.\n",
        "\n",
        "```python\n",
        "class Parent:\n",
        "    def show(self):\n",
        "        print(\"This is Parent class\")\n",
        "\n",
        "class Child(Parent):\n",
        "    def show(self):\n",
        "        super().show()\n",
        "        print(\"This is Child class\")\n",
        "\n",
        "c = Child()\n",
        "c.show()\n",
        "```\n",
        "\n",
        "---\n"
      ],
      "metadata": {
        "id": "1PdZNtKeh924"
      }
    },
    {
      "cell_type": "markdown",
      "source": [
        "21.What is the significance of the __del__ method in Python?\n",
        "- `__del__` runs automatically when an object is deleted.\n",
        "\n",
        "\n",
        "\n",
        "```python\n",
        "class Person:\n",
        "    def __init__(self, name):\n",
        "        self.name = name\n",
        "        print(f\"{self.name} is created\")\n",
        "\n",
        "    def __del__(self):\n",
        "        print(f\"{self.name} is deleted\")\n",
        "\n",
        "p = Person(\"Ravi\")\n",
        "del p\n",
        "```\n",
        "---\n"
      ],
      "metadata": {
        "id": "jnWc14lhiWrX"
      }
    },
    {
      "cell_type": "markdown",
      "source": [
        "22.What is the difference between @staticmethod and @classmethod in Python?\n",
        "-  @staticmethod does not take any class or object as input.\n",
        "- @classmethod takes the class as input.\n",
        "\n",
        "\n",
        "```python\n",
        "class Demo:\n",
        "    name = \"Python\"\n",
        "\n",
        "    @staticmethod\n",
        "    def show_message():\n",
        "        print(\"This is a static method\")\n",
        "\n",
        "    @classmethod\n",
        "    def show_class(cls):\n",
        "        print(f\"This is a class method. Language is {cls.name}\")\n",
        "\n",
        "Demo.show_message()\n",
        "Demo.show_class()\n",
        "```\n",
        "\n",
        "---\n"
      ],
      "metadata": {
        "id": "upKIrbWWioB2"
      }
    },
    {
      "cell_type": "markdown",
      "source": [
        "23.How does polymorphism work in Python with inheritance?\n",
        "- Polymorphism means the same method name works differently in different classes.\n",
        "\n",
        "\n",
        "```python\n",
        "class Animal:\n",
        "    def speak(self):\n",
        "        print(\"Animal speaks\")\n",
        "\n",
        "class Dog(Animal):\n",
        "    def speak(self):\n",
        "        print(\"Dog barks\")\n",
        "\n",
        "class Cat(Animal):\n",
        "    def speak(self):\n",
        "        print(\"Cat meows\")\n",
        "\n",
        "animals = [Dog(), Cat()]\n",
        "\n",
        "for a in animals:\n",
        "    a.speak()\n",
        "```\n",
        "\n",
        "---"
      ],
      "metadata": {
        "id": "bGStMFwnjBX3"
      }
    },
    {
      "cell_type": "markdown",
      "source": [
        "24.What is method chaining in Python OOP?\n",
        "- Method chaining means calling multiple methods one after another using a single line.\n",
        "\n",
        "\n",
        "```python\n",
        "class Person:\n",
        "    def __init__(self, name):\n",
        "        self.name = name\n",
        "\n",
        "    def say_hello(self):\n",
        "        print(f\"Hello from {self.name}\")\n",
        "        return self\n",
        "\n",
        "    def say_bye(self):\n",
        "        print(\"Goodbye\")\n",
        "        return self\n",
        "\n",
        "p = Person(\"Ravi\")\n",
        "p.say_hello().say_bye()\n",
        "```\n",
        "---\n"
      ],
      "metadata": {
        "id": "sKYaRTmQjcxf"
      }
    },
    {
      "cell_type": "markdown",
      "source": [
        "25.What is the purpose of the __call__ method in Python?\n",
        "- `__call__` lets you use an object like a function.\n",
        "\n",
        "\n",
        "\n",
        "```python\n",
        "class Greet:\n",
        "    def __init__(self, name):\n",
        "        self.name = name\n",
        "\n",
        "    def __call__(self):\n",
        "        print(f\"Hello, {self.name}\")\n",
        "\n",
        "g = Greet(\"Ravi\")\n",
        "g()\n",
        "```\n",
        "\n",
        "---\n"
      ],
      "metadata": {
        "id": "-vPIYxKVjuQ3"
      }
    },
    {
      "cell_type": "markdown",
      "source": [
        "# practical questions"
      ],
      "metadata": {
        "id": "tMgY2Jc6QjWL"
      }
    },
    {
      "cell_type": "code",
      "execution_count": 1,
      "metadata": {
        "colab": {
          "base_uri": "https://localhost:8080/"
        },
        "id": "lDS17JFMj0rR",
        "outputId": "d70ea16d-daf4-4a2c-dfa0-e56bbd569993"
      },
      "outputs": [
        {
          "output_type": "stream",
          "name": "stdout",
          "text": [
            "Dog produce a bark sound\n"
          ]
        }
      ],
      "source": [
        "'''\n",
        "1. Create a parent class Animal with a method speak() that prints a generic message. Create a child class Dog\n",
        "that overrides the speak() method to print \"Bark!\".\n",
        "'''\n",
        "class animal:\n",
        "  def speak(self):\n",
        "    print(\"animal creates various types of sound\")\n",
        "class Dog(animal):\n",
        "  def speak(self):\n",
        "    print(\"Dog produce a bark sound\")\n",
        "\n",
        "\n",
        "obj=Dog()\n",
        "obj.speak()"
      ]
    },
    {
      "cell_type": "code",
      "source": [
        "'''\n",
        "2. Write a program to create an abstract class Shape with a method area(). Derive classes Circle and Rectangle\n",
        "from it and implement the area() method in both.\n",
        "'''\n",
        "from abc import abstractmethod\n",
        "\n",
        "class Shape:\n",
        "  @abstractmethod\n",
        "  def area(self):\n",
        "    pass\n",
        "\n",
        "class Circle(Shape):\n",
        "  def __init__(self,radius):\n",
        "    self.radius=radius\n",
        "  def area(self):\n",
        "    return 3.14*self.radius**2\n",
        "\n",
        "class rectangle(Shape):\n",
        "  def __init__(self,l,b):\n",
        "    self.l=l\n",
        "    self.b=b\n",
        "  def area(self):\n",
        "   return self.l*self.b\n",
        "\n",
        "\n",
        "cir=Circle(3.14)\n",
        "re=cir.area()\n",
        "print(f\"area of circle is {re}\")\n",
        "\n",
        "r=rectangle(4,5)\n",
        "de=r.area()\n",
        "print(f\"area of rectangle is {de}\")"
      ],
      "metadata": {
        "colab": {
          "base_uri": "https://localhost:8080/"
        },
        "id": "FNxB3FBYld0p",
        "outputId": "dcffca2b-4a10-435a-9bb7-52df30890585"
      },
      "execution_count": 2,
      "outputs": [
        {
          "output_type": "stream",
          "name": "stdout",
          "text": [
            "area of circle is 30.959144000000002\n",
            "area of rectangle is 20\n"
          ]
        }
      ]
    },
    {
      "cell_type": "code",
      "source": [
        "'''\n",
        "3. Implement a multi-level inheritance scenario where a class Vehicle has an attribute type. Derive a class Car\n",
        "and further derive a class ElectricCar that adds a battery attribute.\n",
        "'''\n",
        "class Vehicle:\n",
        "    def __init__(self, vtype):\n",
        "        self.vtype = vtype\n",
        "\n",
        "class Car(Vehicle):\n",
        "    def __init__(self, vtype, brand):\n",
        "        Vehicle.__init__(self, vtype)\n",
        "        self.brand = brand\n",
        "\n",
        "class ElectricCar(Car):\n",
        "    def __init__(self, vtype, brand, battery):\n",
        "        Car.__init__(self, vtype, brand)\n",
        "        self.battery = battery\n",
        "\n",
        "    def get(self):\n",
        "        print(\"Type:\", self.vtype)\n",
        "        print(\"Brand:\", self.brand)\n",
        "        print(\"Battery:\", self.battery)\n",
        "\n",
        "e = ElectricCar(\"Car\", \"yono\", 120)\n",
        "e.get()\n"
      ],
      "metadata": {
        "colab": {
          "base_uri": "https://localhost:8080/"
        },
        "id": "G3aiEsdgqJ-t",
        "outputId": "4ac6e205-633a-4792-8dee-f570a4fc1bd7"
      },
      "execution_count": null,
      "outputs": [
        {
          "output_type": "stream",
          "name": "stdout",
          "text": [
            "Type: Car\n",
            "Brand: yono\n",
            "Battery: 120\n"
          ]
        }
      ]
    },
    {
      "cell_type": "code",
      "source": [
        "'''\n",
        "4. Demonstrate polymorphism by creating a base class Bird with a method fly(). Create two derived classes\n",
        "Sparrow and Penguin that override the fly() method.\n",
        "'''\n",
        "class Bird:\n",
        "  def __init__(self,Bird_type,color):\n",
        "    self.Bird_type=Bird_type\n",
        "    self.color=color\n",
        "  def fly(self):\n",
        "    print(f\"the bird is {self.Bird_type} and its color is {self.color}\")\n",
        "\n",
        "class Sparrow(Bird):\n",
        "  def __init__(self,Bird_type,color,sound):\n",
        "    Bird.__init__(self,Bird_type,color)\n",
        "    self.sound=sound\n",
        "  def fly(self):\n",
        "    print(f\"the color is {self.color} and sound is {self.sound}\")\n",
        "\n",
        "class Penguin(Bird):\n",
        "  def __init__(self,Bird_type,color,sound):\n",
        "    Bird.__init__(self,Bird_type,color)\n",
        "    self.sound=sound\n",
        "  def fly(self):\n",
        "    print(f\"the color is {self.color} and sound is {self.sound}\")\n",
        "\n",
        "s=Sparrow(\"Sparrow\",\"black\",\"meew\")\n",
        "s.fly()\n",
        "p=Penguin(\"Penguin\",\"white\",\"blip\")\n",
        "p.fly()"
      ],
      "metadata": {
        "colab": {
          "base_uri": "https://localhost:8080/"
        },
        "id": "oYCH5GV9seFD",
        "outputId": "0be19b1d-1a70-4218-b58e-b1b9cd6c7ec3"
      },
      "execution_count": null,
      "outputs": [
        {
          "output_type": "stream",
          "name": "stdout",
          "text": [
            "the color is black and sound is meew\n",
            "the color is white and sound is blip\n"
          ]
        }
      ]
    },
    {
      "cell_type": "code",
      "source": [
        "'''\n",
        "5. Write a program to demonstrate encapsulation by creating a class BankAccount with private attributes\n",
        "balance and methods to deposit, withdraw, and check balance.\n",
        "'''\n",
        "class BankAccount:\n",
        "  def __init__(self,balance):\n",
        "    self.__balance=balance\n",
        "  def deposit(self,amount):\n",
        "    self.__balance +=amount\n",
        "  def withdraw(self,amount):\n",
        "    if self.__balance >= amount:\n",
        "      self.__balance -=amount\n",
        "      return True\n",
        "    else:\n",
        "      return False\n",
        "  def check_balance(self):\n",
        "    return self.__balance\n",
        "\n",
        "b=BankAccount(1000)\n",
        "b.deposit(200)\n",
        "print(\"present balance:\",b.check_balance())\n",
        "print(\"the amount withdraw:\",b.withdraw(300))\n",
        "print(\"present balance:\",b.check_balance())\n"
      ],
      "metadata": {
        "colab": {
          "base_uri": "https://localhost:8080/"
        },
        "id": "XFcYQasf0GiU",
        "outputId": "82376955-677d-4dfa-c80e-3d28b0aa7ee2"
      },
      "execution_count": null,
      "outputs": [
        {
          "output_type": "stream",
          "name": "stdout",
          "text": [
            "present balance: 1200\n",
            "the amount withdraw: True\n",
            "present balance: 900\n"
          ]
        }
      ]
    },
    {
      "cell_type": "code",
      "source": [
        "'''\n",
        "6. Demonstrate runtime polymorphism using a method play() in a base class Instrument. Derive classes Guitar\n",
        "and Piano that implement their own version of play().\n",
        "'''\n",
        "class Instrument:\n",
        "    def __init__(self, Instrument_type, price):\n",
        "        self.Instrument_type = Instrument_type\n",
        "        self.price = price\n",
        "    def play(self):\n",
        "        print(f\"Price is {self.price} and type is {self.Instrument_type}\")\n",
        "\n",
        "class Guitar(Instrument):\n",
        "    def __init__(self, Instrument_type, price, color, sound):\n",
        "        Instrument.__init__(self, Instrument_type, price)\n",
        "        self.color = color\n",
        "        self.sound = sound\n",
        "\n",
        "    def play(self):\n",
        "        print(f\"Guitar plays {self.sound} sound and Color: {self.color}, Price: {self.price}\")\n",
        "\n",
        "class Piano(Instrument):\n",
        "    def __init__(self, Instrument_type, price, sound):\n",
        "        Instrument.__init__(self, Instrument_type, price)\n",
        "        self.sound = sound\n",
        "\n",
        "    def play(self):\n",
        "        print(f\"Piano has {self.sound} sound. Price: {self.price}\")\n",
        "\n",
        "\n",
        "\n",
        "def get(Instrument):\n",
        "  Instrument.play()\n",
        "\n",
        "\n",
        "g = Guitar(\"String\", 15000, \"Red\", \"Melo\")\n",
        "p = Piano(\"Keyboard\", 40000, \"muuuh\")\n",
        "get(g)\n",
        "get(p)\n"
      ],
      "metadata": {
        "colab": {
          "base_uri": "https://localhost:8080/"
        },
        "id": "Ft0m6cAg4cys",
        "outputId": "bc12b157-acd8-47c9-dda3-2eb306426062"
      },
      "execution_count": null,
      "outputs": [
        {
          "output_type": "stream",
          "name": "stdout",
          "text": [
            "Guitar plays Melo sound and Color: Red, Price: 15000\n",
            "Piano has muuuh sound. Price: 40000\n"
          ]
        }
      ]
    },
    {
      "cell_type": "code",
      "source": [
        "'''\n",
        "7. Create a class MathOperations with a class method add_numbers() to add two numbers and a static\n",
        "method subtract_numbers() to subtract two numbers.\n",
        "'''\n",
        "class MathOperations:\n",
        "  def __init__(self,num1,num2):\n",
        "   self.num1=num1\n",
        "   self.num2=num2\n",
        "\n",
        "  @classmethod\n",
        "  def add_numbers(cls,num1,num2):\n",
        "    return num1+num2\n",
        "\n",
        "  @staticmethod\n",
        "  def subtract_numbers(num1,num2):\n",
        "    return num1-num2\n",
        "\n",
        "\n",
        "print(\"addition\",MathOperations.add_numbers(2,3))\n",
        "print(\"subtraction\",MathOperations.subtract_numbers(2,3))"
      ],
      "metadata": {
        "colab": {
          "base_uri": "https://localhost:8080/"
        },
        "id": "iUgtncOIfH0P",
        "outputId": "c0e9313e-4443-4807-a370-15496a97a73f"
      },
      "execution_count": null,
      "outputs": [
        {
          "output_type": "stream",
          "name": "stdout",
          "text": [
            "addition 5\n",
            "subtraction -1\n"
          ]
        }
      ]
    },
    {
      "cell_type": "code",
      "source": [
        "'''\n",
        "8. Implement a class Person with a class method to count the total number of persons created.\n",
        "'''\n",
        "class person:\n",
        "  count=0\n",
        "  def __init__(self,name):\n",
        "    self.name=name\n",
        "    person.count =person.count+1\n",
        "  @classmethod\n",
        "  def c(cls):\n",
        "    return cls.count\n",
        "\n",
        "p=person(\"ffr\")\n",
        "p=person(\"rolaa\")\n",
        "person.c()"
      ],
      "metadata": {
        "colab": {
          "base_uri": "https://localhost:8080/"
        },
        "id": "FSX7hvHwhpXF",
        "outputId": "278920e8-7b92-40a1-9747-ceb66bf185a3"
      },
      "execution_count": null,
      "outputs": [
        {
          "output_type": "execute_result",
          "data": {
            "text/plain": [
              "2"
            ]
          },
          "metadata": {},
          "execution_count": 140
        }
      ]
    },
    {
      "cell_type": "code",
      "source": [
        "'''\n",
        "9. Write a class Fraction with attributes numerator and denominator. Override the str method to display the\n",
        "fraction as \"numerator/denominator\".\n",
        "'''\n",
        "class fraction:\n",
        "  def __init__(self,num,den):\n",
        "    self.num=num\n",
        "    self.den=den\n",
        "  def __str__(self):\n",
        "    return (f\"{self.num}/{self.den}\")\n",
        "\n",
        "f=fraction(4,2)\n",
        "print(f)"
      ],
      "metadata": {
        "colab": {
          "base_uri": "https://localhost:8080/"
        },
        "id": "ofEkYnqfkFrA",
        "outputId": "104f901a-74b1-452e-eeb2-4c243059a4c4"
      },
      "execution_count": null,
      "outputs": [
        {
          "output_type": "stream",
          "name": "stdout",
          "text": [
            "4/2\n"
          ]
        }
      ]
    },
    {
      "cell_type": "code",
      "source": [
        "'''\n",
        "10. Demonstrate operator overloading by creating a class Vector and overriding the add method to add two\n",
        "vectors.\n",
        "'''\n",
        "class Vector:\n",
        "    def __init__(self,x,y):\n",
        "        self.x = x\n",
        "        self.y = y\n",
        "\n",
        "    def __add__(self,other):\n",
        "        return Vector(self.x+other.x, self.y+other.y)\n",
        "\n",
        "    def __str__(self):\n",
        "        return f\"Vector({self.x},{self.y})\"\n",
        "\n",
        "\n",
        "v1 = Vector(2,3)\n",
        "v2 = Vector(4,5)\n",
        "v3 = v1+v2\n",
        "print(v3)\n"
      ],
      "metadata": {
        "colab": {
          "base_uri": "https://localhost:8080/"
        },
        "id": "E5YRnY54mint",
        "outputId": "a5ae9518-2689-47e7-beb7-575c5f079e3b"
      },
      "execution_count": null,
      "outputs": [
        {
          "output_type": "stream",
          "name": "stdout",
          "text": [
            "Vector(6, 8)\n"
          ]
        }
      ]
    },
    {
      "cell_type": "code",
      "source": [
        "'''\n",
        "11. Create a class Person with attributes name and age. Add a method greet() that prints \"Hello, my name is\n",
        "{name} and I am {age} years old.\"\n",
        "'''\n",
        "class Person:\n",
        "    def __init__(self, name, age):\n",
        "        self.name = name\n",
        "        self.age = age\n",
        "\n",
        "    def greet(self):\n",
        "        print(f\"Hello, my name is {self.name} and I am {self.age} years old.\")\n",
        "\n",
        "\n",
        "p = Person(\"Suraj\", 20)\n",
        "p.greet()"
      ],
      "metadata": {
        "colab": {
          "base_uri": "https://localhost:8080/"
        },
        "id": "yXoYc3xt6ukB",
        "outputId": "e8237a79-162a-455e-bf0b-5ecf55ac2b1f"
      },
      "execution_count": null,
      "outputs": [
        {
          "output_type": "stream",
          "name": "stdout",
          "text": [
            "Hello, my name is Suraj and I am 20 years old.\n"
          ]
        }
      ]
    },
    {
      "cell_type": "code",
      "source": [
        "'''\n",
        "12. Implement a class Student with attributes name and grades. Create a method average_grade() to compute\n",
        "the average of the grades.\n",
        "'''\n",
        "class Student:\n",
        "  def __init__(self,name,grades):\n",
        "    self.name=name\n",
        "    self.grades=grades\n",
        "  def average_grade(self):\n",
        "    sum=0\n",
        "    for i in self.grades:\n",
        "      sum +=i\n",
        "\n",
        "    average=sum/len(self.grades)\n",
        "    print(f\"The student {self.name} score the average of {average}\")\n",
        "\n",
        "\n",
        "s=Student(\"suraj\",[85, 90, 78, 92])\n",
        "s.average_grade()"
      ],
      "metadata": {
        "colab": {
          "base_uri": "https://localhost:8080/"
        },
        "id": "z3z0LOCb_mQz",
        "outputId": "ff5b7da5-d085-43e2-8a0f-ccfb000f0809"
      },
      "execution_count": null,
      "outputs": [
        {
          "output_type": "stream",
          "name": "stdout",
          "text": [
            "The student suraj score the average of 86.25\n"
          ]
        }
      ]
    },
    {
      "cell_type": "code",
      "source": [
        "'''\n",
        "13. Create a class Rectangle with methods set_dimensions() to set the dimensions and area() to calculate the\n",
        "area.\n",
        "'''\n",
        "class Rectangle:\n",
        "  def set_dimensions(self,l,b):\n",
        "    self.l=l\n",
        "    self.b=b\n",
        "\n",
        "  def area(self):\n",
        "    area=self.l*self.b\n",
        "    print(f\"The area of rectangle is {area}\")\n",
        "\n",
        "r=Rectangle()\n",
        "r.set_dimensions(3,4)\n",
        "r.area()"
      ],
      "metadata": {
        "colab": {
          "base_uri": "https://localhost:8080/"
        },
        "id": "FBErQH92CEbi",
        "outputId": "fcc667cc-e3a9-477b-bba2-35ea959512b1"
      },
      "execution_count": null,
      "outputs": [
        {
          "output_type": "stream",
          "name": "stdout",
          "text": [
            "The area of rectangle is 12\n"
          ]
        }
      ]
    },
    {
      "cell_type": "code",
      "source": [
        "'''\n",
        "14. Create a class Employee with a method calculate_salary() that computes the salary based on hours worked\n",
        "and hourly rate. Create a derived class Manager that adds a bonus to the salary.\n",
        "'''\n",
        "class Employee:\n",
        "    def __init__(self, name, hours_worked, hourly_rate):\n",
        "        self.name = name\n",
        "        self.hours_worked = hours_worked\n",
        "        self.hourly_rate = hourly_rate\n",
        "    def calculate_salary(self):\n",
        "        r= self.hours_worked * self.hourly_rate\n",
        "        return r\n",
        "\n",
        "class Manager(Employee):\n",
        "    def __init__(self, name, hours_worked, hourly_rate, bonus):\n",
        "        Employee.__init__(self,name, hours_worked, hourly_rate)\n",
        "        self.bonus = bonus\n",
        "    def calculate_salary(self):\n",
        "        return Employee.calculate_salary(self) + self.bonus\n",
        "\n",
        "e=Employee(\"suraj\",7,100)\n",
        "print(\"salary is: \",e.calculate_salary())\n",
        "m=Manager(\"suraj\",7,100,50)\n",
        "print(\"salary after add bonus: \", m.calculate_salary())"
      ],
      "metadata": {
        "colab": {
          "base_uri": "https://localhost:8080/"
        },
        "id": "ZDDKggU4C_ru",
        "outputId": "6f4198bb-de3d-46ed-dc5a-a490f4941a56"
      },
      "execution_count": null,
      "outputs": [
        {
          "output_type": "stream",
          "name": "stdout",
          "text": [
            "salary is:  700\n",
            "salary after add bonus:  750\n"
          ]
        }
      ]
    },
    {
      "cell_type": "code",
      "source": [
        "'''\n",
        "15. Create a class Product with attributes name, price, and quantity. Implement a method total_price() that\n",
        "calculates the total price of the product.\n",
        "'''\n",
        "class Product:\n",
        "  def __init__(self,name,price,quantity):\n",
        "    self.quantity=quantity\n",
        "    self.name=name\n",
        "    self.price=price\n",
        "  def total_price(self):\n",
        "    return self.quantity*self.price\n",
        "\n",
        "p=Product(\"suraj\",99,4)\n",
        "print(f\"{p.name} purchased the product of price {p.total_price()}\")"
      ],
      "metadata": {
        "colab": {
          "base_uri": "https://localhost:8080/"
        },
        "id": "yjWEglbaGAOU",
        "outputId": "01d7d971-2900-46df-de97-b5893a7937f7"
      },
      "execution_count": null,
      "outputs": [
        {
          "output_type": "stream",
          "name": "stdout",
          "text": [
            "suraj purchased the product of price 396\n"
          ]
        }
      ]
    },
    {
      "cell_type": "code",
      "source": [
        "'''\n",
        "16. Create a class Animal with an abstract method sound(). Create two derived classes Cow and Sheep that\n",
        "implement the sound() method\n",
        "'''\n",
        "from abc import abstractmethod\n",
        "class Animal:\n",
        "  @abstractmethod\n",
        "  def sound(self):\n",
        "    pass\n",
        "\n",
        "class Cow(Animal):\n",
        "  def __init__(self,color,sound):\n",
        "    self.color=color\n",
        "    self.sound_s=sound\n",
        "  def sound(self):\n",
        "    print(f\"cow is of {self.color} and produce the sound {self.sound_s}\")\n",
        "\n",
        "class Sheep(Animal):\n",
        "  def __init__(self,color,sound):\n",
        "    self.color=color\n",
        "    self.sound_s=sound\n",
        "  def sound(self):\n",
        "    print(f\"Sheep is of {self.color} and produce the sound {self.sound_s}\")\n",
        "\n",
        "c = Cow(\"white\", \"Moo\")\n",
        "c.sound()\n",
        "s = Sheep(\"black\", \"Baa\")\n",
        "s.sound()\n"
      ],
      "metadata": {
        "colab": {
          "base_uri": "https://localhost:8080/"
        },
        "id": "tzW_w4whHBVp",
        "outputId": "f9f37214-38df-4ea3-cb70-e1338c18323e"
      },
      "execution_count": null,
      "outputs": [
        {
          "output_type": "stream",
          "name": "stdout",
          "text": [
            "cow is of white and produce the sound Moo\n",
            "Sheep is of black and produce the sound Baa\n"
          ]
        }
      ]
    },
    {
      "cell_type": "code",
      "source": [
        "'''\n",
        "17. Create a class Book with attributes title, author, and year_published. Add a method get_book_info() that\n",
        "returns a formatted string with the book's details.\n",
        "'''\n",
        "class Book:\n",
        "  def __init__(self,title, author, year_published):\n",
        "    self.title=title\n",
        "    self.author=author\n",
        "    self.year_published=year_published\n",
        "\n",
        "  def get_book_info(self):\n",
        "   return f\"'{self.title}' by {self.author}, published in {self.year_published}\"\n",
        "\n",
        "b = Book(\"the death\", \" Lee\", 1960)\n",
        "print(b.get_book_info())\n"
      ],
      "metadata": {
        "colab": {
          "base_uri": "https://localhost:8080/"
        },
        "id": "9RhCFse0HF9F",
        "outputId": "ad31bd15-65af-4fed-9828-f29d9e075c07"
      },
      "execution_count": null,
      "outputs": [
        {
          "output_type": "stream",
          "name": "stdout",
          "text": [
            "'the death' by  Lee, published in 1960\n"
          ]
        }
      ]
    },
    {
      "cell_type": "code",
      "source": [
        "'''\n",
        "18. Create a class House with attributes address and price. Create a derived class Mansion that adds an\n",
        "attribute number_of_rooms.\n",
        "'''\n",
        "class House:\n",
        "  def __init__(self,price,address):\n",
        "    self.price=price\n",
        "    self.address=address\n",
        "class Mansion(House):\n",
        "  def __init__(self,price,address,number_of_rooms):\n",
        "    House. __init__(self,price,address)\n",
        "    self.number_of_rooms=number_of_rooms\n",
        "\n",
        "  def get(self):\n",
        "    return self.price*self.number_of_rooms\n",
        "\n",
        "\n",
        "m = Mansion(500, \"colony \", 10)\n",
        "print(f\"Total price: {m.get()}\")\n",
        "\n"
      ],
      "metadata": {
        "colab": {
          "base_uri": "https://localhost:8080/"
        },
        "id": "M8cqHcfqHKds",
        "outputId": "83bdeb57-a5fb-4b3c-aa32-928ae0dcf876"
      },
      "execution_count": null,
      "outputs": [
        {
          "output_type": "stream",
          "name": "stdout",
          "text": [
            "Total price: 5000\n"
          ]
        }
      ]
    }
  ]
}